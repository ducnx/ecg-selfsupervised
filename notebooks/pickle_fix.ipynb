{
 "cells": [
  {
   "cell_type": "code",
   "execution_count": 2,
   "id": "db55139b",
   "metadata": {},
   "outputs": [
    {
     "data": {
      "text/plain": [
       "'/home/dxng/codes/TS-rep-learning/ecg-selfsupervised/notebooks'"
      ]
     },
     "execution_count": 2,
     "metadata": {},
     "output_type": "execute_result"
    }
   ],
   "source": [
    "import pickle\n",
    "import os\n",
    "import pandas as pd\n",
    "os.getcwd()"
   ]
  },
  {
   "cell_type": "code",
   "execution_count": 6,
   "id": "e38db1b6",
   "metadata": {},
   "outputs": [],
   "source": [
    "# Fix pickle file protocol 5 to 4\n",
    "path = '/home/dxng/datasets/ECG-Zheng/zheng_fs100/df.pkl'\n",
    "df = pickle.load(open(path, 'rb'))"
   ]
  }
 ],
 "metadata": {
  "kernelspec": {
   "display_name": "Python 3",
   "language": "python",
   "name": "python3"
  },
  "language_info": {
   "codemirror_mode": {
    "name": "ipython",
    "version": 3
   },
   "file_extension": ".py",
   "mimetype": "text/x-python",
   "name": "python",
   "nbconvert_exporter": "python",
   "pygments_lexer": "ipython3",
   "version": "3.6.10"
  }
 },
 "nbformat": 4,
 "nbformat_minor": 5
}
