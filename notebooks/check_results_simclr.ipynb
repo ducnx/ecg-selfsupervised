{
 "cells": [
  {
   "cell_type": "code",
   "execution_count": 13,
   "id": "75a5f187",
   "metadata": {},
   "outputs": [
    {
     "name": "stdout",
     "output_type": "stream",
     "text": [
      "/home/dxng/codes/TS-rep-learning/ecg-selfsupervised/notebooks\n"
     ]
    }
   ],
   "source": [
    "import os\n",
    "import pickle\n",
    "import numpy as np\n",
    "print(os.getcwd())"
   ]
  },
  {
   "cell_type": "code",
   "execution_count": 7,
   "id": "ed3b1def",
   "metadata": {},
   "outputs": [
    {
     "name": "stdout",
     "output_type": "stream",
     "text": [
      "dict_keys(['config', 'trafos', 'scores'])\n"
     ]
    }
   ],
   "source": [
    "# Check SimCLR pretraining on Zheng data\n",
    "# rundir = '/home/dxng/codes/TS-rep-learning/ecg-selfsupervised/experiment_logs/zheng/Tue Apr 27 16:37:35 2021_simclr_313_RRC TO /'\n",
    "# rundir = '/home/dxng/codes/TS-rep-learning/ecg-selfsupervised/experiment_logs/zheng/Mon_May__3_13:46:40_2021_simclr_851_RRC_TO_/'\n",
    "rundir = '/home/dxng/codes/TS-rep-learning/ecg-selfsupervised/experiment_logs/zheng/Mon_May__3_15:12:43_2021_simclr_810_RRC_TO_/'\n",
    "result_file = 'results.pkl'\n",
    "result = pickle.load(open(os.path.join(rundir, result_file), 'rb'))\n",
    "print(result.keys())\n",
    "# finetune_file = 'checkpoints/n=1_f=8_res_fin.pkl'\n",
    "# finetune = pickle.load(open(os.path.join(rundir, finetune_file), 'rb'))\n",
    "# print(finetune.keys())\n",
    "# lin_eval_file = 'checkpoints/n=1_f=8_res_lin.pkl'\n",
    "# lin_eval = pickle.load(open(os.path.join(rundir, lin_eval_file), 'rb'))\n",
    "# print(lin_eval.keys())"
   ]
  },
  {
   "cell_type": "code",
   "execution_count": 8,
   "id": "076b7fff",
   "metadata": {},
   "outputs": [
    {
     "name": "stdout",
     "output_type": "stream",
     "text": [
      "{}\n",
      "{'batch_size': 4096, 'epochs': 1000, 'warm_up': 1, 'eval_every_n_epochs': 1, 'fine_tune_from': 'None', 'log_every_n_steps': 50, 'lr': 0.0001, 'weight_decay': '10e-6', 'precision': 16, 'log_dir': 'experiment_logs/zheng/Mon_May__3_15:12:43_2021_simclr_810_RRC_TO_', 'debug': False, 'model': {'out_dim': 16, 'base_model': 'xresnet1d50', 'hidden': True, 'widen': 1.0}, 'loss': {'temperature': 0.5, 'use_cosine_similarity': True}, 'dataset': {'s': 1, 'input_shape': '(12, 333)', 'num_workers': 0, 'valid_size': 0.05, 'data_folder': './data/ptb_xl_fs100', 'target_folders': ['/home/dxng/datasets/ECG-Zheng/zheng_fs100'], 'target_fs': 100, 'recreate_data_ptb_xl': False, 'filter_cinc': False, 'ptb_xl_label': 'label_all', 'percentage': 1.0}, 'eval_epochs': 5, 'eval_every': 5, 'eval_batch_size': 512, 'lin_eval_every_n_epochs': 1, 'eval_lr': '3e-2', 'eval_wd': '1e-1', 'perform_lin_eval': True, 'perform_fine_tuning': True, 'eval_mode': 'fine_tuning', 'eval_gradual_freezing': False, 'eval_dataset': {'s': 1, 'input_shape': '(12, 250)', 'num_workers': 8, 'valid_size': 0.05, 'data_folder': './data/ptbxl', 'target_folders': ['/home/dxng/datasets/PTB-XL/ptb_xl_fs100'], 'target_fs': 100, 'recreate_data_ptb_xl': False, 'ptb_xl_label': 'label_all'}, 'downsample_ratio': 0.2, 'gpus': 1, 'percentage': 1.0, 'num_nodes': 1, 'checkpoint_path': '', 'target_folders': ['/home/dxng/datasets/ECG-Zheng/zheng_fs100'], 'magnitude_range': [0.5, 2], 'warps': 3, 'filter_cinc': False, 'epsilon': 10, 'distributed_backend': None, 'gaussian_scale': 0.005, 'run_callbacks': False, 'out_dim': None, 'to_crop_ratio_range': [0.2, 0.4], 'widen': None, 'output_size': 250, 'resume': False, 'base_model': None, 'radius': 10, 'rr_crop_ratio_range': [0.5, 1.0], 'trafos': ['RandomResizedCrop', 'TimeOut']}\n"
     ]
    }
   ],
   "source": [
    "print(result['scores'])\n",
    "print(result['config'])"
   ]
  },
  {
   "cell_type": "code",
   "execution_count": 3,
   "id": "7e1819be",
   "metadata": {},
   "outputs": [
    {
     "name": "stdout",
     "output_type": "stream",
     "text": [
      "test_macros [0.9047431186092939]\n",
      "test_macros_agg [0.9180896046026661]\n"
     ]
    }
   ],
   "source": [
    "print('test_macros', finetune['test_macros'])\n",
    "print('test_macros_agg', finetune['test_macros_agg'])"
   ]
  },
  {
   "cell_type": "code",
   "execution_count": 4,
   "id": "94f6d20a",
   "metadata": {},
   "outputs": [
    {
     "name": "stdout",
     "output_type": "stream",
     "text": [
      "test_macros [0.7771017212102775]\n",
      "test_macros_agg [0.8123096285835549]\n"
     ]
    }
   ],
   "source": [
    "print('test_macros', lin_eval['test_macros'])\n",
    "print('test_macros_agg', lin_eval['test_macros_agg'])"
   ]
  }
 ],
 "metadata": {
  "kernelspec": {
   "display_name": "Python 3",
   "language": "python",
   "name": "python3"
  },
  "language_info": {
   "codemirror_mode": {
    "name": "ipython",
    "version": 3
   },
   "file_extension": ".py",
   "mimetype": "text/x-python",
   "name": "python",
   "nbconvert_exporter": "python",
   "pygments_lexer": "ipython3",
   "version": "3.6.10"
  }
 },
 "nbformat": 4,
 "nbformat_minor": 5
}
